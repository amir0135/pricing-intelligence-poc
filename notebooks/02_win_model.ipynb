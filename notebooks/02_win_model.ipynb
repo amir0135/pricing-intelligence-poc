{
 "cells": [
  {
   "cell_type": "markdown",
   "id": "19cea47a",
   "metadata": {},
   "source": [
    "# Win Rate Model Training\n",
    "\n",
    "This notebook demonstrates the ML training process for the pricing intelligence POC.\n",
    "We'll train a model to predict win probability based on pricing and customer features.\n",
    "\n",
    "## Multi-Model Agent Architecture\n",
    "\n",
    "This POC showcases how **multi-model agents** enhance pricing intelligence:\n",
    "- **Rules Agent**: Business policy enforcement\n",
    "- **WinRate Agent**: ML-based win probability prediction  \n",
    "- **Elasticity Agent**: Economic price sensitivity modeling\n",
    "- **Explainer Agent**: Natural language explanations\n",
    "- **Orchestrator**: Coordinates all agents for optimal recommendations"
   ]
  },
  {
   "cell_type": "code",
   "execution_count": null,
   "id": "a387924b",
   "metadata": {},
   "outputs": [],
   "source": [
    "import pandas as pd\n",
    "import numpy as np\n",
    "import matplotlib.pyplot as plt\n",
    "import seaborn as sns\n",
    "from sklearn.ensemble import RandomForestClassifier\n",
    "from sklearn.model_selection import train_test_split, cross_val_score\n",
    "from sklearn.preprocessing import LabelEncoder\n",
    "from sklearn.metrics import classification_report, roc_auc_score, roc_curve\n",
    "import joblib\n",
    "from pathlib import Path\n",
    "\n",
    "# Set style for better plots\n",
    "plt.style.use('default')\n",
    "sns.set_palette(\"husl\")\n",
    "\n",
    "print(\"Libraries imported successfully!\")"
   ]
  },
  {
   "cell_type": "markdown",
   "id": "79f338ee",
   "metadata": {},
   "source": [
    "## 1. Load and Explore Data"
   ]
  },
  {
   "cell_type": "code",
   "execution_count": null,
   "id": "13c20d1e",
   "metadata": {},
   "outputs": [],
   "source": [
    "# Load datasets\n",
    "data_dir = Path('../data/sample_csv')\n",
    "\n",
    "orders = pd.read_csv(data_dir / 'orders.csv')\n",
    "customers = pd.read_csv(data_dir / 'customers.csv')\n",
    "products = pd.read_csv(data_dir / 'products.csv')\n",
    "cogs = pd.read_csv(data_dir / 'cogs.csv')\n",
    "\n",
    "print(\"Dataset shapes:\")\n",
    "print(f\"Orders: {orders.shape}\")\n",
    "print(f\"Customers: {customers.shape}\")\n",
    "print(f\"Products: {products.shape}\")\n",
    "print(f\"COGS: {cogs.shape}\")\n",
    "\n",
    "# Show sample data\n",
    "print(\"\\nSample orders:\")\n",
    "orders.head()"
   ]
  },
  {
   "cell_type": "markdown",
   "id": "13c3d2f9",
   "metadata": {},
   "source": [
    "## 2. Data Merging and Feature Engineering"
   ]
  },
  {
   "cell_type": "code",
   "execution_count": null,
   "id": "d204d973",
   "metadata": {},
   "outputs": [],
   "source": [
    "# Merge datasets for feature engineering\n",
    "df = orders.merge(customers, on='customer_id', how='left')\n",
    "df = df.merge(products, on='product_id', how='left')\n",
    "df = df.merge(cogs, on='product_id', how='left')\n",
    "\n",
    "print(f\"Merged dataset shape: {df.shape}\")\n",
    "print(f\"Win rate: {df['won_flag'].mean():.1%}\")\n",
    "\n",
    "# Create pricing features\n",
    "df['margin_pct'] = (df['net_price'] - df['cogs']) / df['cogs']\n",
    "df['price_vs_competitor'] = df['net_price'] / df['competitor_price']\n",
    "df['volume_tier'] = pd.cut(df['quantity'], bins=[0, 5, 15, 30, 100], labels=['Small', 'Medium', 'Large', 'XLarge'])\n",
    "df['price_position'] = pd.cut(df['price_vs_competitor'], bins=[0, 0.9, 1.1, 2.0], labels=['Below', 'Match', 'Above'])\n",
    "\n",
    "print(\"\\nKey features created:\")\n",
    "print(f\"- Margin %: {df['margin_pct'].mean():.1%} average\")\n",
    "print(f\"- Price vs Competitor: {df['price_vs_competitor'].mean():.2f} average ratio\")\n",
    "print(f\"- Volume distribution: {df['volume_tier'].value_counts().to_dict()}\")\n",
    "print(f\"- Price positioning: {df['price_position'].value_counts().to_dict()}\")"
   ]
  },
  {
   "cell_type": "markdown",
   "id": "2c388d26",
   "metadata": {},
   "source": [
    "## 3. Model Training"
   ]
  },
  {
   "cell_type": "code",
   "execution_count": null,
   "id": "46c4d2f8",
   "metadata": {},
   "outputs": [],
   "source": [
    "# Prepare features for modeling\n",
    "feature_cols = ['margin_pct', 'discount_depth', 'price_vs_competitor', 'quantity',\n",
    "               'segment', 'channel', 'region', 'family', 'volume_tier', 'price_position']\n",
    "\n",
    "# Encode categorical features\n",
    "encoders = {}\n",
    "categorical_cols = ['segment', 'channel', 'region', 'family', 'volume_tier', 'price_position']\n",
    "\n",
    "for col in categorical_cols:\n",
    "    if col in df.columns:\n",
    "        le = LabelEncoder()\n",
    "        df[col] = df[col].astype(str)\n",
    "        df[col + '_encoded'] = le.fit_transform(df[col])\n",
    "        encoders[col] = le\n",
    "\n",
    "# Prepare feature matrix\n",
    "feature_cols_encoded = [col + '_encoded' if col in categorical_cols else col for col in feature_cols]\n",
    "X = df[feature_cols_encoded].fillna(0)\n",
    "y = df['won_flag']\n",
    "\n",
    "print(f\"Feature matrix shape: {X.shape}\")\n",
    "print(f\"Features: {feature_cols_encoded}\")\n",
    "\n",
    "# Train/test split\n",
    "X_train, X_test, y_train, y_test = train_test_split(X, y, test_size=0.3, random_state=42, stratify=y)\n",
    "print(f\"\\nTrain: {X_train.shape}, Test: {X_test.shape}\")"
   ]
  },
  {
   "cell_type": "code",
   "execution_count": null,
   "id": "efd8815e",
   "metadata": {},
   "outputs": [],
   "source": [
    "# Train Random Forest model\n",
    "rf_model = RandomForestClassifier(n_estimators=100, max_depth=10, random_state=42)\n",
    "rf_model.fit(X_train, y_train)\n",
    "\n",
    "# Evaluate\n",
    "y_pred = rf_model.predict(X_test)\n",
    "y_pred_proba = rf_model.predict_proba(X_test)[:, 1]\n",
    "auc = roc_auc_score(y_test, y_pred_proba)\n",
    "\n",
    "print(f\"Test AUC: {auc:.3f}\")\n",
    "print(\"\\nClassification Report:\")\n",
    "print(classification_report(y_test, y_pred))\n",
    "\n",
    "# Feature importance\n",
    "feature_importance = pd.DataFrame({\n",
    "    'feature': feature_cols_encoded,\n",
    "    'importance': rf_model.feature_importances_\n",
    "}).sort_values('importance', ascending=False)\n",
    "\n",
    "print(\"\\nTop 5 Feature Importances:\")\n",
    "for _, row in feature_importance.head(5).iterrows():\n",
    "    print(f\"{row['feature']}: {row['importance']:.3f}\")"
   ]
  },
  {
   "cell_type": "markdown",
   "id": "d25b843c",
   "metadata": {},
   "source": [
    "## 4. Save Model and Test Multi-Agent System"
   ]
  },
  {
   "cell_type": "code",
   "execution_count": null,
   "id": "79cd378e",
   "metadata": {},
   "outputs": [],
   "source": [
    "# Save model and encoders\n",
    "models_dir = Path('../models')\n",
    "models_dir.mkdir(exist_ok=True)\n",
    "\n",
    "joblib.dump(rf_model, models_dir / 'winrate_model.pkl')\n",
    "joblib.dump(encoders, models_dir / 'winrate_encoders.pkl')\n",
    "\n",
    "print(f\"✅ Model saved with AUC: {auc:.3f}\")\n",
    "print(\"Model training complete! Ready for production use.\")\n",
    "\n",
    "# Test multi-agent orchestrator\n",
    "import sys\n",
    "sys.path.append('..')\n",
    "\n",
    "try:\n",
    "    from agents.orchestrator import AgentOrchestrator\n",
    "    \n",
    "    # Initialize orchestrator\n",
    "    orchestrator = AgentOrchestrator()\n",
    "    \n",
    "    # Test recommendation\n",
    "    result = orchestrator.recommend_price(\n",
    "        sku=\"SKU-001\", \n",
    "        customer_id=\"C-100\", \n",
    "        quantity=10, \n",
    "        country=\"DE\", \n",
    "        channel=\"Direct\", \n",
    "        currency=\"EUR\"\n",
    "    )\n",
    "    \n",
    "    print(\"\\n🎯 Multi-Agent Recommendation Test:\")\n",
    "    print(f\"Floor: ${result['floor']}\")\n",
    "    print(f\"Target: ${result['target']}\")\n",
    "    print(f\"Stretch: ${result['stretch']}\")\n",
    "    print(f\"Win Probability: {result['p_win_at_target']:.1%}\")\n",
    "    print(f\"Confidence: {result['confidence_score']}\")\n",
    "    \n",
    "except Exception as e:\n",
    "    print(f\"Note: Multi-agent system will be available after running the API: {e}\")\n",
    "\n",
    "print(\"\\n🚀 Next steps: Run 'make run' to start the API with full multi-agent intelligence!\")"
   ]
  }
 ],
 "metadata": {
  "language_info": {
   "name": "python"
  }
 },
 "nbformat": 4,
 "nbformat_minor": 5
}
